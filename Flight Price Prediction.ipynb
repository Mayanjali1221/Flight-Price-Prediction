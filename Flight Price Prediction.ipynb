{
 "cells": [
  {
   "cell_type": "code",
   "execution_count": null,
   "id": "5f378f8e",
   "metadata": {},
   "outputs": [],
   "source": [
    "import pandas as pd\n",
    "import numpy as np\n",
    "import matplotlib.pyplot as plt\n",
    "import seaborn as sns\n",
    "%matplotlib inline\n",
    "import matplotlib\n",
    "matplotlib.rcParams['figure.figsize'] = (20,10)\n",
    "import warnings\n",
    "warnings.filterwarnings('ignore')"
   ]
  },
  {
   "cell_type": "code",
   "execution_count": null,
   "id": "56ff86ff",
   "metadata": {},
   "outputs": [],
   "source": [
    "fare = pd.read_excel('flight_fare.xlsx')\n",
    "fare.head(15)"
   ]
  },
  {
   "cell_type": "code",
   "execution_count": null,
   "id": "d01ee8a4",
   "metadata": {},
   "outputs": [],
   "source": [
    "fare.shape"
   ]
  },
  {
   "cell_type": "code",
   "execution_count": null,
   "id": "fe6a3c4d",
   "metadata": {},
   "outputs": [],
   "source": [
    "fare.info()"
   ]
  },
  {
   "cell_type": "code",
   "execution_count": null,
   "id": "ea8b2241",
   "metadata": {},
   "outputs": [],
   "source": [
    "fare.isnull().sum()"
   ]
  },
  {
   "cell_type": "code",
   "execution_count": null,
   "id": "bc3aadba",
   "metadata": {},
   "outputs": [],
   "source": [
    "fare['Route'] = fare['Route'].fillna(fare['Route'].mode()[0])\n",
    "fare['Total_Stops'] = fare['Total_Stops'].fillna(fare['Total_Stops'].mode()[0])\n",
    "\n",
    "fare=fare.drop(['Date_of_Journey','Route','Arrival_Time','Dep_Time','Additional_Info'],axis=1)"
   ]
  },
  {
   "cell_type": "code",
   "execution_count": null,
   "id": "eb7a0a5f",
   "metadata": {},
   "outputs": [],
   "source": [
    "fare.isnull().sum()"
   ]
  },
  {
   "cell_type": "code",
   "execution_count": null,
   "id": "52f571b5",
   "metadata": {},
   "outputs": [],
   "source": [
    "fare.head(5)"
   ]
  },
  {
   "cell_type": "code",
   "execution_count": null,
   "id": "49fb4d2f",
   "metadata": {},
   "outputs": [],
   "source": [
    "fare['Total_Stops'].value_counts()"
   ]
  },
  {
   "cell_type": "code",
   "execution_count": null,
   "id": "f6b891c7",
   "metadata": {},
   "outputs": [],
   "source": [
    "plt.figure(figsize=(6,6))\n",
    "sns.countplot(fare['Source'])\n",
    "plt.show()"
   ]
  },
  {
   "cell_type": "code",
   "execution_count": null,
   "id": "eb81c422",
   "metadata": {},
   "outputs": [],
   "source": [
    "plt.figure(figsize=(30,10))\n",
    "sns.barplot(x=\"Airline\",y='Price', data=fare)\n",
    "plt.show()"
   ]
  },
  {
   "cell_type": "code",
   "execution_count": null,
   "id": "605558d5",
   "metadata": {},
   "outputs": [],
   "source": [
    "plt.figure(figsize=(6,6))\n",
    "sns.distplot(fare['Price'])\n",
    "plt.show()"
   ]
  },
  {
   "cell_type": "code",
   "execution_count": null,
   "id": "ddee9365",
   "metadata": {},
   "outputs": [],
   "source": [
    "fare['Price'].skew()"
   ]
  },
  {
   "cell_type": "code",
   "execution_count": null,
   "id": "07032214",
   "metadata": {},
   "outputs": [],
   "source": [
    "fare['Price'].describe()"
   ]
  },
  {
   "cell_type": "code",
   "execution_count": null,
   "id": "680340ca",
   "metadata": {},
   "outputs": [],
   "source": [
    "plt.figure(figsize=(6,6))\n",
    "sns.barplot(x=\"Source\",y='Price', data=fare)\n",
    "plt.show()"
   ]
  },
  {
   "cell_type": "code",
   "execution_count": null,
   "id": "03044a80",
   "metadata": {},
   "outputs": [],
   "source": [
    "plt.figure(figsize=(6,6))\n",
    "sns.barplot(x=\"Destination\",y='Price', data=fare)\n",
    "plt.show()"
   ]
  },
  {
   "cell_type": "code",
   "execution_count": null,
   "id": "8c29e383",
   "metadata": {},
   "outputs": [],
   "source": [
    "plt.figure(figsize=(6,6))\n",
    "sns.barplot(x=\"Total_Stops\",y='Price', data=fare)\n",
    "plt.show()"
   ]
  },
  {
   "cell_type": "code",
   "execution_count": null,
   "id": "a1eec0ac",
   "metadata": {},
   "outputs": [],
   "source": [
    "# Time taken by plane to reach destination is called Duration\n",
    "# It is the differnce between Departure Time and Arrival time\n",
    "\n",
    "\n",
    "# Assigning and converting Duration column into list\n",
    "duration = list(fare[\"Duration\"])\n",
    "\n",
    "for i in range(len(duration)):\n",
    "    if len(duration[i].split()) != 2:    # Check if duration contains only hour or mins\n",
    "        if \"h\" in duration[i]:\n",
    "            duration[i] = duration[i].strip() + \" 0m\"   # Adds 0 minute\n",
    "        else:\n",
    "            duration[i] = \"0h \" + duration[i]           # Adds 0 hour\n",
    "\n",
    "duration_hours = []\n",
    "duration_mins = []\n",
    "for i in range(len(duration)):\n",
    "    duration_hours.append(int(duration[i].split(sep = \"h\")[0]))    # Extract hours from duration\n",
    "    duration_mins.append(int(duration[i].split(sep = \"m\")[0].split()[-1]))   # Extracts only minutes from duration"
   ]
  },
  {
   "cell_type": "code",
   "execution_count": null,
   "id": "608faa47",
   "metadata": {},
   "outputs": [],
   "source": [
    "# Adding duration_hours and duration_mins list to train_data dataframe\n",
    "\n",
    "fare[\"Duration_hours\"] = duration_hours\n",
    "fare[\"Duration_mins\"] = duration_mins\n",
    "\n",
    "fare=fare.drop(['Duration'],axis=1)"
   ]
  },
  {
   "cell_type": "code",
   "execution_count": null,
   "id": "c7447be4",
   "metadata": {},
   "outputs": [],
   "source": [
    "fare.replace({'Total_Stops':{'non-stop':0,'1 stop':1,'2 stops':2,'3 stops':3,'4 stops':4}},inplace=True)"
   ]
  },
  {
   "cell_type": "code",
   "execution_count": null,
   "id": "296c5f57",
   "metadata": {},
   "outputs": [],
   "source": [
    "# As Source, Airline, Destination is Nominal Categorical data we will perform OneHotEncoding\n",
    "\n",
    "Airline = fare[[\"Airline\"]]\n",
    "\n",
    "Airline = pd.get_dummies(Airline, drop_first= True)\n",
    "\n",
    "\n",
    "Source = fare[[\"Source\"]]\n",
    "\n",
    "Source = pd.get_dummies(Source, drop_first= True)\n",
    "\n",
    "\n",
    "Destination = fare[[\"Destination\"]]\n",
    "\n",
    "Destination = pd.get_dummies(Destination, drop_first= True)"
   ]
  },
  {
   "cell_type": "code",
   "execution_count": null,
   "id": "15a6ed32",
   "metadata": {},
   "outputs": [],
   "source": [
    "# Concatenate dataframe --> fare + Airline + Source + Destination\n",
    "\n",
    "fare = pd.concat([fare, Airline, Source, Destination], axis = 1)"
   ]
  },
  {
   "cell_type": "code",
   "execution_count": null,
   "id": "d85389f2",
   "metadata": {},
   "outputs": [],
   "source": [
    "fare=fare.drop(['Airline','Source','Destination'],axis=1)"
   ]
  },
  {
   "cell_type": "code",
   "execution_count": null,
   "id": "49a67631",
   "metadata": {},
   "outputs": [],
   "source": [
    "fare.head(5)"
   ]
  },
  {
   "cell_type": "code",
   "execution_count": null,
   "id": "4c4feadc",
   "metadata": {},
   "outputs": [],
   "source": [
    "plt.figure(figsize=(20,20))\n",
    "sns.heatmap(fare.corr(),annot=True)"
   ]
  },
  {
   "cell_type": "code",
   "execution_count": null,
   "id": "0eb7e461",
   "metadata": {},
   "outputs": [],
   "source": [
    "x=fare.drop('Price',axis=1)\n",
    "y=fare['Price']"
   ]
  },
  {
   "cell_type": "code",
   "execution_count": null,
   "id": "877490b5",
   "metadata": {},
   "outputs": [],
   "source": [
    "from sklearn.model_selection import train_test_split\n",
    "x_train,x_test,y_train,y_test = train_test_split(x,y,test_size=.20, random_state=0)"
   ]
  },
  {
   "cell_type": "code",
   "execution_count": null,
   "id": "6a64ec18",
   "metadata": {},
   "outputs": [],
   "source": [
    "# Scaling Data\n",
    "\n",
    "from sklearn.preprocessing import StandardScaler\n",
    "sc = StandardScaler()\n",
    "x_train = sc.fit_transform(x_train)\n",
    "x_test = sc.transform(x_test)"
   ]
  },
  {
   "cell_type": "code",
   "execution_count": null,
   "id": "1489916c",
   "metadata": {},
   "outputs": [],
   "source": [
    "# Model Training and Testing\n",
    "from sklearn.linear_model import LinearRegression\n",
    "from sklearn.ensemble import AdaBoostRegressor,GradientBoostingRegressor,RandomForestRegressor\n",
    "from sklearn.tree import DecisionTreeRegressor\n",
    "from sklearn.neighbors import KNeighborsRegressor\n",
    "from xgboost import XGBRFRegressor"
   ]
  },
  {
   "cell_type": "code",
   "execution_count": null,
   "id": "cba96b68",
   "metadata": {},
   "outputs": [],
   "source": [
    "lr=LinearRegression()\n",
    "\n",
    "knn = KNeighborsRegressor(n_neighbors=10)\n",
    "\n",
    "dt = DecisionTreeRegressor(max_depth = 3)\n",
    "\n",
    "rf = RandomForestRegressor(max_depth = 3, n_estimators=500)\n",
    "\n",
    "ada = AdaBoostRegressor( n_estimators=50, learning_rate =.01)\n",
    "\n",
    "gbr = GradientBoostingRegressor(max_depth=2, n_estimators=100, learning_rate =.2)"
   ]
  },
  {
   "cell_type": "code",
   "execution_count": null,
   "id": "d0d3980a",
   "metadata": {},
   "outputs": [],
   "source": [
    "# Testing with linear regression\n",
    "lr = LinearRegression()\n",
    "lr.fit(x_train,y_train)\n",
    "\n",
    "y_pred = lr.predict(x_test)\n",
    "from sklearn.metrics import r2_score\n",
    "r1 = r2_score(y_test,y_pred)\n",
    "r1"
   ]
  },
  {
   "cell_type": "code",
   "execution_count": null,
   "id": "f9908471",
   "metadata": {},
   "outputs": [],
   "source": [
    "# Testing with KNeighborsRegressor\n",
    "knn = KNeighborsRegressor(n_neighbors=10)\n",
    "knn.fit(x_train,y_train)\n",
    "\n",
    "y_pred = knn.predict(x_test)\n",
    "from sklearn.metrics import r2_score\n",
    "r2 = r2_score(y_test,y_pred)\n",
    "r2\n"
   ]
  },
  {
   "cell_type": "code",
   "execution_count": null,
   "id": "54d99d1e",
   "metadata": {},
   "outputs": [],
   "source": [
    "# Testing with DecisionTreeRegressor\n",
    "dt = DecisionTreeRegressor(max_depth = 3)\n",
    "dt.fit(x_train,y_train)\n",
    "\n",
    "y_pred = dt.predict(x_test)\n",
    "from sklearn.metrics import r2_score\n",
    "r3 = r2_score(y_test,y_pred)\n",
    "r3"
   ]
  },
  {
   "cell_type": "code",
   "execution_count": null,
   "id": "4f013a9f",
   "metadata": {},
   "outputs": [],
   "source": [
    "# Testing with RandomForestRegressor\n",
    "rf = RandomForestRegressor(max_depth = 3, n_estimators=500)\n",
    "rf.fit(x_train,y_train)\n",
    "\n",
    "y_pred = rf.predict(x_test)\n",
    "from sklearn.metrics import r2_score\n",
    "r4 = r2_score(y_test,y_pred)\n",
    "r4"
   ]
  },
  {
   "cell_type": "code",
   "execution_count": null,
   "id": "e5ca0840",
   "metadata": {},
   "outputs": [],
   "source": [
    "# Testing with AdaBoostRegressor\n",
    "ada = AdaBoostRegressor( n_estimators=50, learning_rate =.01)\n",
    "ada.fit(x_train,y_train)\n",
    "\n",
    "y_pred = ada.predict(x_test)\n",
    "from sklearn.metrics import r2_score\n",
    "r5 = r2_score(y_test,y_pred)\n",
    "r5"
   ]
  },
  {
   "cell_type": "code",
   "execution_count": null,
   "id": "4d53d8a1",
   "metadata": {},
   "outputs": [],
   "source": [
    "# Testing with GradientBoostingRegressor\n",
    "gbr = GradientBoostingRegressor(max_depth=2, n_estimators=100, learning_rate =.2)\n",
    "gbr.fit(x_train,y_train)\n",
    "\n",
    "y_pred = gbr.predict(x_test)\n",
    "from sklearn.metrics import r2_score\n",
    "r6 = r2_score(y_test,y_pred)\n",
    "r"
   ]
  },
  {
   "cell_type": "code",
   "execution_count": null,
   "id": "b08192ba",
   "metadata": {},
   "outputs": [],
   "source": [
    "# Model Results\n",
    "metric_results= {'Model': ['linear Regression', 'KNeighbors', 'Decision Tree','RandomForest','AdaBoost','GradientBoosting'], \n",
    "                 'R Square': [r1, r2, r3,r4,r5,r6]}\n",
    "metrics= pd.DataFrame(metric_results)\n",
    "metrics"
   ]
  },
  {
   "cell_type": "code",
   "execution_count": null,
   "id": "b57299ac",
   "metadata": {},
   "outputs": [],
   "source": [
    "prediction= pd.DataFrame({'actual Price': y_test, 'predicted Price': y_pred})\n",
    "sns.relplot(data=prediction, x='actual Price', y='predicted Price')"
   ]
  },
  {
   "cell_type": "code",
   "execution_count": null,
   "id": "feb46d1a",
   "metadata": {},
   "outputs": [],
   "source": [
    "from sklearn import metrics\n",
    "print('MAE:', metrics.mean_absolute_error(y_test, y_pred))\n",
    "print('MSE:', metrics.mean_squared_error(y_test, y_pred))\n",
    "print('RMSE:', np.sqrt(metrics.mean_squared_error(y_test, y_pred)))"
   ]
  }
 ],
 "metadata": {
  "kernelspec": {
   "display_name": "Python 3",
   "language": "python",
   "name": "python3"
  },
  "language_info": {
   "codemirror_mode": {
    "name": "ipython",
    "version": 3
   },
   "file_extension": ".py",
   "mimetype": "text/x-python",
   "name": "python",
   "nbconvert_exporter": "python",
   "pygments_lexer": "ipython3",
   "version": "3.8.8"
  }
 },
 "nbformat": 4,
 "nbformat_minor": 5
}
